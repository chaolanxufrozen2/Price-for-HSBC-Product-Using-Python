{
 "cells": [
  {
   "cell_type": "markdown",
   "metadata": {},
   "source": [
    "# Price Embedded Option for HSBC Life Variable Annuity Product"
   ]
  },
  {
   "cell_type": "markdown",
   "metadata": {},
   "source": [
    "## Steps:\n",
    "1. Assumptions\n",
    "2. Calculate GPB(nteed Payout Base) at the end of accumulation period (using Montecarlo Simulation Method and variance deduction technique)\n",
    "3. Calculate every-month payout for payout period\n",
    "4. Calculate product charge\n",
    "5. Calculat present value \n",
    "6. Test different results with different initial investment and different accumulation/payout period"
   ]
  },
  {
   "cell_type": "markdown",
   "metadata": {},
   "source": [
    "### Step1: Assumptions\n",
    "(1) The underlying fund can be modelled by a Geometric Brownian motion with 𝜎 = 20% p.a. and 𝑟 = 3%;\n",
    "(2) Accumulation Period is 15 years, and payout period is 20 years;\n",
    "(3) No partial withdrawal during the policy\n",
    "(4) Initial Investment is 51000 and 210000 respectively\n",
    "(5) Policy begins at the begining of a month"
   ]
  },
  {
   "cell_type": "markdown",
   "metadata": {},
   "source": [
    "### Step2: GPB at the end of accumulation period\n",
    "### Step3: Calculate every-month payout for payout period"
   ]
  },
  {
   "cell_type": "code",
   "execution_count": 51,
   "metadata": {},
   "outputs": [],
   "source": [
    "import numpy as np\n",
    "#import openturns as ot\n",
    "#import sobol_seq as seq\n",
    "np.random.seed(0)"
   ]
  },
  {
   "cell_type": "code",
   "execution_count": 52,
   "metadata": {},
   "outputs": [],
   "source": [
    "def PayOut(simulationTimes, accumYears, initialInvestment,payOutYears):\n",
    "    r = 0.03\n",
    "    stv = 0.2\n",
    "    d1 = accumYears*12 # how many times to simulate for each simulation \n",
    "    d2 = payOutYears*12\n",
    "    all_GPB = np.zeros(shape=(simulationTimes,d1+d2+1)) # d+1 to store initial investment\n",
    "    all_payOut = np.zeros(shape=(simulationTimes,d2))\n",
    "    count1 = 0\n",
    "    \n",
    "    for count1 in range(simulationTimes):\n",
    "        z = np.zeros(shape=(1,d1+d2+1))\n",
    "        z[0,0:d1+d2] = np.random.normal(0, 1, size=(1, d1+d2))\n",
    "        GPB_store = np.zeros(shape=(1,d1+d2+1))\n",
    "        GPB_store[0,0] = initialInvestment\n",
    "        count2 = 0\n",
    "        \n",
    "        # Calculate GPB during the accumulation years\n",
    "        for count2 in range(d1+1):\n",
    "            F1 = GPB_store[0,count2]*np.exp((r-0.5*stv*stv)*(1/12)+stv*np.sqrt(1/12)*z[0,count2])\n",
    "            if count2 <= d1-1:# why needs this? when d1=3, count2=3,  F1 is out of what we need\n",
    "                if F1 > GPB_store[0,count2]:\n",
    "                    GPB_store[0,count2+1]= F1\n",
    "                else:\n",
    "                    GPB_store[0,count2+1]= GPB_store[0,count2]\n",
    "            count2 +=1\n",
    "            \n",
    "        # Calculate GPB and payout for every month during the payout years\n",
    "        count3 = d1+1\n",
    "        RemainMonths = payOutYears*12\n",
    "        payOut = np.zeros(shape=(1,d2))#d2-1,cuz pay at initial of every month\n",
    "        \n",
    "        for count3 in range(d1+1, d1+d2+1):\n",
    "            if RemainMonths != 0:\n",
    "                payout_everymonth = GPB_store[0, count3-1]/RemainMonths\n",
    "                RemainMonths = RemainMonths - 1\n",
    "            else:\n",
    "                payout_everymonth = GPB_store[0, count3-1]# when remainMonths=0, count3=d1+d2, pay out lump sum payout\n",
    "            \n",
    "            payOut[0,count3-d1-1] = payout_everymonth # count3-d1-1 at first round is 0\n",
    "            GPB_afterPay = GPB_store[0, count3-1] - payout_everymonth\n",
    "            F2 = GPB_afterPay*np.exp((r-0.5*stv*stv)*(1/12)+stv*np.sqrt(1/12)*z[0,count3-d1-1]) #这里公式是不是12和count3-d1-1\n",
    "            \n",
    "            if count3 <= d1+d2-1:\n",
    "                if F2 > GPB_store[0,count3]:\n",
    "                    GPB_store[0,count3]= F2\n",
    "                else:\n",
    "                    GPB_store[0,count3]= GPB_store[0,count3]\n",
    "                                     \n",
    "            count3 = count3+1  \n",
    "                                     \n",
    "        all_GPB[count1,:]= GPB_store\n",
    "        all_payOut[count1,:]= payOut\n",
    "        count1 +=1\n",
    "                                     \n",
    "    return all_GPB, all_payOut"
   ]
  },
  {
   "cell_type": "markdown",
   "metadata": {},
   "source": [
    "### Step4: Calculate product charge"
   ]
  },
  {
   "cell_type": "code",
   "execution_count": 69,
   "metadata": {},
   "outputs": [],
   "source": [
    "# leave alone the charge first"
   ]
  },
  {
   "cell_type": "markdown",
   "metadata": {},
   "source": [
    "### Step5: Calculat PV\n",
    "    "
   ]
  },
  {
   "cell_type": "code",
   "execution_count": 70,
   "metadata": {},
   "outputs": [],
   "source": [
    "def PV_avg(simulationTimes, accumYears, initialInvestment,payOutYears):\n",
    "    # present value of the payout\n",
    "    r = 0.03\n",
    "    d2 = payOutYears*12\n",
    "    a,b = PayOut(simulationTimes, accumYears, initialInvestment,payOutYears)\n",
    "    all_payout = b\n",
    "    pv_sum_each = np.zeros(shape=(1,simulationTimes))\n",
    "    \n",
    "    for i in range(simulationTimes):\n",
    "        pv_sum = 0\n",
    "        \n",
    "        for j in range(d2):\n",
    "            pv = all_payout[i,j]*np.exp(-r*(accumYears+j/12))\n",
    "            pv_sum = pv_sum + pv\n",
    "        \n",
    "        pv_sum_each[0,i]=pv_sum # pv_sum_each is storing payout pv for each simulation\n",
    "    return pv_sum_each"
   ]
  },
  {
   "cell_type": "code",
   "execution_count": 68,
   "metadata": {},
   "outputs": [
    {
     "data": {
      "text/plain": [
       "5200792.660813322"
      ]
     },
     "execution_count": 68,
     "metadata": {},
     "output_type": "execute_result"
    }
   ],
   "source": [
    "PV_avg(5000, 15, 51000,20)[0,1] # this is too high"
   ]
  },
  {
   "cell_type": "markdown",
   "metadata": {},
   "source": [
    "### Step6: Test Different Schemes"
   ]
  },
  {
   "cell_type": "code",
   "execution_count": null,
   "metadata": {},
   "outputs": [],
   "source": []
  }
 ],
 "metadata": {
  "kernelspec": {
   "display_name": "Python 3",
   "language": "python",
   "name": "python3"
  },
  "language_info": {
   "codemirror_mode": {
    "name": "ipython",
    "version": 3
   },
   "file_extension": ".py",
   "mimetype": "text/x-python",
   "name": "python",
   "nbconvert_exporter": "python",
   "pygments_lexer": "ipython3",
   "version": "3.7.3"
  }
 },
 "nbformat": 4,
 "nbformat_minor": 2
}
